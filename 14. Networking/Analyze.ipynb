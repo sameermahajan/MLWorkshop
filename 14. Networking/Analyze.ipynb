{
 "cells": [
  {
   "cell_type": "markdown",
   "id": "8c3ffb81",
   "metadata": {},
   "source": [
    "# Network Capture"
   ]
  },
  {
   "cell_type": "markdown",
   "id": "36042413",
   "metadata": {},
   "source": [
    "## All top-level fields from Packet List View"
   ]
  },
  {
   "cell_type": "code",
   "execution_count": 17,
   "id": "7041b8a5",
   "metadata": {},
   "outputs": [
    {
     "data": {
      "text/html": [
       "<div>\n",
       "<style scoped>\n",
       "    .dataframe tbody tr th:only-of-type {\n",
       "        vertical-align: middle;\n",
       "    }\n",
       "\n",
       "    .dataframe tbody tr th {\n",
       "        vertical-align: top;\n",
       "    }\n",
       "\n",
       "    .dataframe thead th {\n",
       "        text-align: right;\n",
       "    }\n",
       "</style>\n",
       "<table border=\"1\" class=\"dataframe\">\n",
       "  <thead>\n",
       "    <tr style=\"text-align: right;\">\n",
       "      <th></th>\n",
       "      <th>No.</th>\n",
       "      <th>Time</th>\n",
       "      <th>Source</th>\n",
       "      <th>Destination</th>\n",
       "      <th>Protocol</th>\n",
       "      <th>Length</th>\n",
       "      <th>Info</th>\n",
       "    </tr>\n",
       "  </thead>\n",
       "  <tbody>\n",
       "    <tr>\n",
       "      <th>0</th>\n",
       "      <td>1</td>\n",
       "      <td>0.000000</td>\n",
       "      <td>10.240.180.150</td>\n",
       "      <td>10.240.180.126</td>\n",
       "      <td>CFLOW</td>\n",
       "      <td>778</td>\n",
       "      <td>IPFIX flow ( 736 bytes) Obs-Domain-ID=    0 [D...</td>\n",
       "    </tr>\n",
       "    <tr>\n",
       "      <th>1</th>\n",
       "      <td>2</td>\n",
       "      <td>0.000029</td>\n",
       "      <td>10.240.180.126</td>\n",
       "      <td>10.240.180.150</td>\n",
       "      <td>ICMP</td>\n",
       "      <td>590</td>\n",
       "      <td>Destination unreachable (Port unreachable)</td>\n",
       "    </tr>\n",
       "    <tr>\n",
       "      <th>2</th>\n",
       "      <td>3</td>\n",
       "      <td>0.071835</td>\n",
       "      <td>10.240.180.150</td>\n",
       "      <td>10.240.180.126</td>\n",
       "      <td>CFLOW</td>\n",
       "      <td>1498</td>\n",
       "      <td>IPFIX flow (1456 bytes) Obs-Domain-ID=    0 [D...</td>\n",
       "    </tr>\n",
       "    <tr>\n",
       "      <th>3</th>\n",
       "      <td>4</td>\n",
       "      <td>0.171614</td>\n",
       "      <td>10.240.180.150</td>\n",
       "      <td>10.240.180.126</td>\n",
       "      <td>CFLOW</td>\n",
       "      <td>1066</td>\n",
       "      <td>IPFIX flow (1024 bytes) Obs-Domain-ID=    0 [D...</td>\n",
       "    </tr>\n",
       "    <tr>\n",
       "      <th>4</th>\n",
       "      <td>5</td>\n",
       "      <td>0.190703</td>\n",
       "      <td>10.240.180.150</td>\n",
       "      <td>10.240.180.126</td>\n",
       "      <td>CFLOW</td>\n",
       "      <td>1498</td>\n",
       "      <td>IPFIX flow (1456 bytes) Obs-Domain-ID=    0 [D...</td>\n",
       "    </tr>\n",
       "  </tbody>\n",
       "</table>\n",
       "</div>"
      ],
      "text/plain": [
       "   No.      Time          Source     Destination Protocol  Length  \\\n",
       "0    1  0.000000  10.240.180.150  10.240.180.126    CFLOW     778   \n",
       "1    2  0.000029  10.240.180.126  10.240.180.150     ICMP     590   \n",
       "2    3  0.071835  10.240.180.150  10.240.180.126    CFLOW    1498   \n",
       "3    4  0.171614  10.240.180.150  10.240.180.126    CFLOW    1066   \n",
       "4    5  0.190703  10.240.180.150  10.240.180.126    CFLOW    1498   \n",
       "\n",
       "                                                Info  \n",
       "0  IPFIX flow ( 736 bytes) Obs-Domain-ID=    0 [D...  \n",
       "1         Destination unreachable (Port unreachable)  \n",
       "2  IPFIX flow (1456 bytes) Obs-Domain-ID=    0 [D...  \n",
       "3  IPFIX flow (1024 bytes) Obs-Domain-ID=    0 [D...  \n",
       "4  IPFIX flow (1456 bytes) Obs-Domain-ID=    0 [D...  "
      ]
     },
     "execution_count": 17,
     "metadata": {},
     "output_type": "execute_result"
    }
   ],
   "source": [
    "import pandas as pd\n",
    "df1 = pd.read_csv('data1.csv')\n",
    "df1.head()"
   ]
  },
  {
   "cell_type": "markdown",
   "id": "9b512135",
   "metadata": {},
   "source": [
    "## timestamp field from IPFIX"
   ]
  },
  {
   "cell_type": "code",
   "execution_count": 18,
   "id": "67b2bf03",
   "metadata": {},
   "outputs": [],
   "source": [
    "df2 = pd.read_csv('data2.csv')"
   ]
  },
  {
   "cell_type": "code",
   "execution_count": 19,
   "id": "f1e3bad6",
   "metadata": {},
   "outputs": [
    {
     "data": {
      "text/html": [
       "<div>\n",
       "<style scoped>\n",
       "    .dataframe tbody tr th:only-of-type {\n",
       "        vertical-align: middle;\n",
       "    }\n",
       "\n",
       "    .dataframe tbody tr th {\n",
       "        vertical-align: top;\n",
       "    }\n",
       "\n",
       "    .dataframe thead th {\n",
       "        text-align: right;\n",
       "    }\n",
       "</style>\n",
       "<table border=\"1\" class=\"dataframe\">\n",
       "  <thead>\n",
       "    <tr style=\"text-align: right;\">\n",
       "      <th></th>\n",
       "      <th>cflow.timestamp</th>\n",
       "      <th>ip.src</th>\n",
       "      <th>ip.dst</th>\n",
       "      <th>ip.proto</th>\n",
       "      <th>cflow.len</th>\n",
       "    </tr>\n",
       "  </thead>\n",
       "  <tbody>\n",
       "    <tr>\n",
       "      <th>0</th>\n",
       "      <td>Dec 20 2021 11:54:49.000000000</td>\n",
       "      <td>10.240.180.150</td>\n",
       "      <td>10.240.180.126</td>\n",
       "      <td>17</td>\n",
       "      <td>736</td>\n",
       "    </tr>\n",
       "    <tr>\n",
       "      <th>1</th>\n",
       "      <td>Dec 20 2021 11:54:50.000000000</td>\n",
       "      <td>10.240.180.150</td>\n",
       "      <td>10.240.180.126</td>\n",
       "      <td>17</td>\n",
       "      <td>1456</td>\n",
       "    </tr>\n",
       "    <tr>\n",
       "      <th>2</th>\n",
       "      <td>Dec 20 2021 11:54:49.000000000</td>\n",
       "      <td>10.240.180.150</td>\n",
       "      <td>10.240.180.126</td>\n",
       "      <td>17</td>\n",
       "      <td>1024</td>\n",
       "    </tr>\n",
       "    <tr>\n",
       "      <th>3</th>\n",
       "      <td>Dec 20 2021 11:54:50.000000000</td>\n",
       "      <td>10.240.180.150</td>\n",
       "      <td>10.240.180.126</td>\n",
       "      <td>17</td>\n",
       "      <td>1456</td>\n",
       "    </tr>\n",
       "    <tr>\n",
       "      <th>4</th>\n",
       "      <td>Dec 20 2021 11:54:50.000000000</td>\n",
       "      <td>10.240.180.150</td>\n",
       "      <td>10.240.180.126</td>\n",
       "      <td>17</td>\n",
       "      <td>1456</td>\n",
       "    </tr>\n",
       "  </tbody>\n",
       "</table>\n",
       "</div>"
      ],
      "text/plain": [
       "                  cflow.timestamp          ip.src          ip.dst  ip.proto  \\\n",
       "0  Dec 20 2021 11:54:49.000000000  10.240.180.150  10.240.180.126        17   \n",
       "1  Dec 20 2021 11:54:50.000000000  10.240.180.150  10.240.180.126        17   \n",
       "2  Dec 20 2021 11:54:49.000000000  10.240.180.150  10.240.180.126        17   \n",
       "3  Dec 20 2021 11:54:50.000000000  10.240.180.150  10.240.180.126        17   \n",
       "4  Dec 20 2021 11:54:50.000000000  10.240.180.150  10.240.180.126        17   \n",
       "\n",
       "   cflow.len  \n",
       "0        736  \n",
       "1       1456  \n",
       "2       1024  \n",
       "3       1456  \n",
       "4       1456  "
      ]
     },
     "execution_count": 19,
     "metadata": {},
     "output_type": "execute_result"
    }
   ],
   "source": [
    "df2.head()"
   ]
  },
  {
   "cell_type": "markdown",
   "id": "61449d0c",
   "metadata": {},
   "source": [
    "## Unique Connections"
   ]
  },
  {
   "cell_type": "code",
   "execution_count": 20,
   "id": "34531187",
   "metadata": {},
   "outputs": [
    {
     "data": {
      "text/html": [
       "<div>\n",
       "<style scoped>\n",
       "    .dataframe tbody tr th:only-of-type {\n",
       "        vertical-align: middle;\n",
       "    }\n",
       "\n",
       "    .dataframe tbody tr th {\n",
       "        vertical-align: top;\n",
       "    }\n",
       "\n",
       "    .dataframe thead th {\n",
       "        text-align: right;\n",
       "    }\n",
       "</style>\n",
       "<table border=\"1\" class=\"dataframe\">\n",
       "  <thead>\n",
       "    <tr style=\"text-align: right;\">\n",
       "      <th></th>\n",
       "      <th>Source</th>\n",
       "      <th>Destination</th>\n",
       "      <th>No.</th>\n",
       "      <th>Time</th>\n",
       "      <th>Protocol</th>\n",
       "      <th>Length</th>\n",
       "      <th>Info</th>\n",
       "    </tr>\n",
       "  </thead>\n",
       "  <tbody>\n",
       "    <tr>\n",
       "      <th>0</th>\n",
       "      <td>10.240.180.126</td>\n",
       "      <td>10.240.180.150</td>\n",
       "      <td>48</td>\n",
       "      <td>48</td>\n",
       "      <td>48</td>\n",
       "      <td>48</td>\n",
       "      <td>48</td>\n",
       "    </tr>\n",
       "    <tr>\n",
       "      <th>1</th>\n",
       "      <td>10.240.180.150</td>\n",
       "      <td>10.240.180.126</td>\n",
       "      <td>119</td>\n",
       "      <td>119</td>\n",
       "      <td>119</td>\n",
       "      <td>119</td>\n",
       "      <td>119</td>\n",
       "    </tr>\n",
       "    <tr>\n",
       "      <th>2</th>\n",
       "      <td>AristaNe_16:0e:a1</td>\n",
       "      <td>Broadcast</td>\n",
       "      <td>12</td>\n",
       "      <td>12</td>\n",
       "      <td>12</td>\n",
       "      <td>12</td>\n",
       "      <td>12</td>\n",
       "    </tr>\n",
       "    <tr>\n",
       "      <th>3</th>\n",
       "      <td>Dell_16:3c:5c</td>\n",
       "      <td>AristaNe_16:0e:a1</td>\n",
       "      <td>15</td>\n",
       "      <td>15</td>\n",
       "      <td>15</td>\n",
       "      <td>15</td>\n",
       "      <td>15</td>\n",
       "    </tr>\n",
       "    <tr>\n",
       "      <th>4</th>\n",
       "      <td>Dell_16:3c:5c</td>\n",
       "      <td>Broadcast</td>\n",
       "      <td>6</td>\n",
       "      <td>6</td>\n",
       "      <td>6</td>\n",
       "      <td>6</td>\n",
       "      <td>6</td>\n",
       "    </tr>\n",
       "    <tr>\n",
       "      <th>5</th>\n",
       "      <td>Dell_42:5c:dd</td>\n",
       "      <td>Broadcast</td>\n",
       "      <td>1</td>\n",
       "      <td>1</td>\n",
       "      <td>1</td>\n",
       "      <td>1</td>\n",
       "      <td>1</td>\n",
       "    </tr>\n",
       "  </tbody>\n",
       "</table>\n",
       "</div>"
      ],
      "text/plain": [
       "              Source        Destination  No.  Time  Protocol  Length  Info\n",
       "0     10.240.180.126     10.240.180.150   48    48        48      48    48\n",
       "1     10.240.180.150     10.240.180.126  119   119       119     119   119\n",
       "2  AristaNe_16:0e:a1          Broadcast   12    12        12      12    12\n",
       "3      Dell_16:3c:5c  AristaNe_16:0e:a1   15    15        15      15    15\n",
       "4      Dell_16:3c:5c          Broadcast    6     6         6       6     6\n",
       "5      Dell_42:5c:dd          Broadcast    1     1         1       1     1"
      ]
     },
     "execution_count": 20,
     "metadata": {},
     "output_type": "execute_result"
    }
   ],
   "source": [
    "df1.groupby([\"Source\", 'Destination']).count().reset_index()"
   ]
  },
  {
   "cell_type": "markdown",
   "id": "c25041d1",
   "metadata": {},
   "source": [
    "## Connection Level Aggregations"
   ]
  },
  {
   "cell_type": "code",
   "execution_count": 21,
   "id": "eb7493dc",
   "metadata": {},
   "outputs": [
    {
     "data": {
      "text/html": [
       "<div>\n",
       "<style scoped>\n",
       "    .dataframe tbody tr th:only-of-type {\n",
       "        vertical-align: middle;\n",
       "    }\n",
       "\n",
       "    .dataframe tbody tr th {\n",
       "        vertical-align: top;\n",
       "    }\n",
       "\n",
       "    .dataframe thead th {\n",
       "        text-align: right;\n",
       "    }\n",
       "</style>\n",
       "<table border=\"1\" class=\"dataframe\">\n",
       "  <thead>\n",
       "    <tr style=\"text-align: right;\">\n",
       "      <th></th>\n",
       "      <th></th>\n",
       "      <th>Time</th>\n",
       "      <th>Length</th>\n",
       "    </tr>\n",
       "    <tr>\n",
       "      <th>Source</th>\n",
       "      <th>Destination</th>\n",
       "      <th></th>\n",
       "      <th></th>\n",
       "    </tr>\n",
       "  </thead>\n",
       "  <tbody>\n",
       "    <tr>\n",
       "      <th>10.240.180.126</th>\n",
       "      <th>10.240.180.150</th>\n",
       "      <td>1523.115927</td>\n",
       "      <td>525.000000</td>\n",
       "    </tr>\n",
       "    <tr>\n",
       "      <th>10.240.180.150</th>\n",
       "      <th>10.240.180.126</th>\n",
       "      <td>3010.969010</td>\n",
       "      <td>910.840336</td>\n",
       "    </tr>\n",
       "    <tr>\n",
       "      <th>AristaNe_16:0e:a1</th>\n",
       "      <th>Broadcast</th>\n",
       "      <td>343.935627</td>\n",
       "      <td>68.000000</td>\n",
       "    </tr>\n",
       "    <tr>\n",
       "      <th rowspan=\"2\" valign=\"top\">Dell_16:3c:5c</th>\n",
       "      <th>AristaNe_16:0e:a1</th>\n",
       "      <td>469.287328</td>\n",
       "      <td>42.000000</td>\n",
       "    </tr>\n",
       "    <tr>\n",
       "      <th>Broadcast</th>\n",
       "      <td>193.566216</td>\n",
       "      <td>42.000000</td>\n",
       "    </tr>\n",
       "    <tr>\n",
       "      <th>Dell_42:5c:dd</th>\n",
       "      <th>Broadcast</th>\n",
       "      <td>25.323772</td>\n",
       "      <td>60.000000</td>\n",
       "    </tr>\n",
       "  </tbody>\n",
       "</table>\n",
       "</div>"
      ],
      "text/plain": [
       "                                            Time      Length\n",
       "Source            Destination                               \n",
       "10.240.180.126    10.240.180.150     1523.115927  525.000000\n",
       "10.240.180.150    10.240.180.126     3010.969010  910.840336\n",
       "AristaNe_16:0e:a1 Broadcast           343.935627   68.000000\n",
       "Dell_16:3c:5c     AristaNe_16:0e:a1   469.287328   42.000000\n",
       "                  Broadcast           193.566216   42.000000\n",
       "Dell_42:5c:dd     Broadcast            25.323772   60.000000"
      ]
     },
     "execution_count": 21,
     "metadata": {},
     "output_type": "execute_result"
    }
   ],
   "source": [
    "df1.groupby([\"Source\", 'Destination']).agg(({'Time':'sum', 'Length':'mean'}))"
   ]
  },
  {
   "cell_type": "markdown",
   "id": "56661193",
   "metadata": {},
   "source": [
    "## Process packets only for a specified connection"
   ]
  },
  {
   "cell_type": "code",
   "execution_count": 22,
   "id": "615be274",
   "metadata": {},
   "outputs": [],
   "source": [
    "def process(df, connection):\n",
    "    filtered_df = df[(df[\"Source\"] == connection.Source) & (df[\"Destination\"] == connection.Destination)]\n",
    "    return further_process(filtered_df)"
   ]
  },
  {
   "cell_type": "markdown",
   "id": "817124f6",
   "metadata": {},
   "source": [
    "## Time Series Modelling"
   ]
  },
  {
   "cell_type": "code",
   "execution_count": 23,
   "id": "cb678148",
   "metadata": {},
   "outputs": [
    {
     "data": {
      "text/html": [
       "<div>\n",
       "<style scoped>\n",
       "    .dataframe tbody tr th:only-of-type {\n",
       "        vertical-align: middle;\n",
       "    }\n",
       "\n",
       "    .dataframe tbody tr th {\n",
       "        vertical-align: top;\n",
       "    }\n",
       "\n",
       "    .dataframe thead th {\n",
       "        text-align: right;\n",
       "    }\n",
       "</style>\n",
       "<table border=\"1\" class=\"dataframe\">\n",
       "  <thead>\n",
       "    <tr style=\"text-align: right;\">\n",
       "      <th></th>\n",
       "      <th>cflow.timestamp</th>\n",
       "      <th>ip.src</th>\n",
       "      <th>ip.dst</th>\n",
       "      <th>ip.proto</th>\n",
       "      <th>cflow.len</th>\n",
       "    </tr>\n",
       "  </thead>\n",
       "  <tbody>\n",
       "    <tr>\n",
       "      <th>0</th>\n",
       "      <td>Dec 20 2021 11:54:49.000000000</td>\n",
       "      <td>10.240.180.150</td>\n",
       "      <td>10.240.180.126</td>\n",
       "      <td>17</td>\n",
       "      <td>736</td>\n",
       "    </tr>\n",
       "    <tr>\n",
       "      <th>1</th>\n",
       "      <td>Dec 20 2021 11:54:50.000000000</td>\n",
       "      <td>10.240.180.150</td>\n",
       "      <td>10.240.180.126</td>\n",
       "      <td>17</td>\n",
       "      <td>1456</td>\n",
       "    </tr>\n",
       "    <tr>\n",
       "      <th>2</th>\n",
       "      <td>Dec 20 2021 11:54:49.000000000</td>\n",
       "      <td>10.240.180.150</td>\n",
       "      <td>10.240.180.126</td>\n",
       "      <td>17</td>\n",
       "      <td>1024</td>\n",
       "    </tr>\n",
       "    <tr>\n",
       "      <th>3</th>\n",
       "      <td>Dec 20 2021 11:54:50.000000000</td>\n",
       "      <td>10.240.180.150</td>\n",
       "      <td>10.240.180.126</td>\n",
       "      <td>17</td>\n",
       "      <td>1456</td>\n",
       "    </tr>\n",
       "    <tr>\n",
       "      <th>4</th>\n",
       "      <td>Dec 20 2021 11:54:50.000000000</td>\n",
       "      <td>10.240.180.150</td>\n",
       "      <td>10.240.180.126</td>\n",
       "      <td>17</td>\n",
       "      <td>1456</td>\n",
       "    </tr>\n",
       "  </tbody>\n",
       "</table>\n",
       "</div>"
      ],
      "text/plain": [
       "                  cflow.timestamp          ip.src          ip.dst  ip.proto  \\\n",
       "0  Dec 20 2021 11:54:49.000000000  10.240.180.150  10.240.180.126        17   \n",
       "1  Dec 20 2021 11:54:50.000000000  10.240.180.150  10.240.180.126        17   \n",
       "2  Dec 20 2021 11:54:49.000000000  10.240.180.150  10.240.180.126        17   \n",
       "3  Dec 20 2021 11:54:50.000000000  10.240.180.150  10.240.180.126        17   \n",
       "4  Dec 20 2021 11:54:50.000000000  10.240.180.150  10.240.180.126        17   \n",
       "\n",
       "   cflow.len  \n",
       "0        736  \n",
       "1       1456  \n",
       "2       1024  \n",
       "3       1456  \n",
       "4       1456  "
      ]
     },
     "execution_count": 23,
     "metadata": {},
     "output_type": "execute_result"
    }
   ],
   "source": [
    "df2.head()"
   ]
  },
  {
   "cell_type": "code",
   "execution_count": 24,
   "id": "04519799",
   "metadata": {},
   "outputs": [],
   "source": [
    "b = df2.rename(columns={'cflow.timestamp':'ds','cflow.len':'y'})[{\"ds\", \"y\"}]"
   ]
  },
  {
   "cell_type": "code",
   "execution_count": 25,
   "id": "4f1fe063",
   "metadata": {},
   "outputs": [
    {
     "data": {
      "text/html": [
       "<div>\n",
       "<style scoped>\n",
       "    .dataframe tbody tr th:only-of-type {\n",
       "        vertical-align: middle;\n",
       "    }\n",
       "\n",
       "    .dataframe tbody tr th {\n",
       "        vertical-align: top;\n",
       "    }\n",
       "\n",
       "    .dataframe thead th {\n",
       "        text-align: right;\n",
       "    }\n",
       "</style>\n",
       "<table border=\"1\" class=\"dataframe\">\n",
       "  <thead>\n",
       "    <tr style=\"text-align: right;\">\n",
       "      <th></th>\n",
       "      <th>y</th>\n",
       "      <th>ds</th>\n",
       "    </tr>\n",
       "  </thead>\n",
       "  <tbody>\n",
       "    <tr>\n",
       "      <th>0</th>\n",
       "      <td>736</td>\n",
       "      <td>Dec 20 2021 11:54:49.000000000</td>\n",
       "    </tr>\n",
       "    <tr>\n",
       "      <th>1</th>\n",
       "      <td>1456</td>\n",
       "      <td>Dec 20 2021 11:54:50.000000000</td>\n",
       "    </tr>\n",
       "    <tr>\n",
       "      <th>2</th>\n",
       "      <td>1024</td>\n",
       "      <td>Dec 20 2021 11:54:49.000000000</td>\n",
       "    </tr>\n",
       "    <tr>\n",
       "      <th>3</th>\n",
       "      <td>1456</td>\n",
       "      <td>Dec 20 2021 11:54:50.000000000</td>\n",
       "    </tr>\n",
       "    <tr>\n",
       "      <th>4</th>\n",
       "      <td>1456</td>\n",
       "      <td>Dec 20 2021 11:54:50.000000000</td>\n",
       "    </tr>\n",
       "  </tbody>\n",
       "</table>\n",
       "</div>"
      ],
      "text/plain": [
       "      y                              ds\n",
       "0   736  Dec 20 2021 11:54:49.000000000\n",
       "1  1456  Dec 20 2021 11:54:50.000000000\n",
       "2  1024  Dec 20 2021 11:54:49.000000000\n",
       "3  1456  Dec 20 2021 11:54:50.000000000\n",
       "4  1456  Dec 20 2021 11:54:50.000000000"
      ]
     },
     "execution_count": 25,
     "metadata": {},
     "output_type": "execute_result"
    }
   ],
   "source": [
    "b.head()"
   ]
  },
  {
   "cell_type": "markdown",
   "id": "c03d6fe7",
   "metadata": {},
   "source": [
    "### Build the model"
   ]
  },
  {
   "cell_type": "code",
   "execution_count": 26,
   "id": "5bddef37",
   "metadata": {},
   "outputs": [
    {
     "name": "stderr",
     "output_type": "stream",
     "text": [
      "INFO:prophet:Disabling yearly seasonality. Run prophet with yearly_seasonality=True to override this.\n",
      "INFO:prophet:Disabling weekly seasonality. Run prophet with weekly_seasonality=True to override this.\n",
      "INFO:prophet:Disabling daily seasonality. Run prophet with daily_seasonality=True to override this.\n"
     ]
    },
    {
     "data": {
      "text/plain": [
       "<prophet.forecaster.Prophet at 0x7fbb83a98760>"
      ]
     },
     "execution_count": 26,
     "metadata": {},
     "output_type": "execute_result"
    }
   ],
   "source": [
    "from prophet import Prophet\n",
    "m = Prophet()\n",
    "m.fit(b)"
   ]
  },
  {
   "cell_type": "markdown",
   "id": "5054e995",
   "metadata": {},
   "source": [
    "### Make predictions"
   ]
  },
  {
   "cell_type": "code",
   "execution_count": 28,
   "id": "daaaffbd",
   "metadata": {},
   "outputs": [
    {
     "data": {
      "image/png": "[encoded data removed]",
      "text/plain": [
       "<Figure size 720x432 with 1 Axes>"
      ]
     },
     "metadata": {},
     "output_type": "display_data"
    }
   ],
   "source": [
    "future = m.make_future_dataframe(periods=5, freq='s')\n",
    "forecast = m.predict(future)\n",
    "fig1 = m.plot(forecast)"
   ]
  }
 ],
 "metadata": {
  "kernelspec": {
   "display_name": "Python 3",
   "language": "python",
   "name": "python3"
  },
  "language_info": {
   "codemirror_mode": {
    "name": "ipython",
    "version": 3
   },
   "file_extension": ".py",
   "mimetype": "text/x-python",
   "name": "python",
   "nbconvert_exporter": "python",
   "pygments_lexer": "ipython3",
   "version": "3.8.8"
  }
 },
 "nbformat": 4,
 "nbformat_minor": 5
}
