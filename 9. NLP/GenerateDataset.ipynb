{
 "cells": [
  {
   "cell_type": "code",
   "execution_count": 1,
   "id": "a0019c12-47c5-4e00-a3dd-731f9ccaef59",
   "metadata": {},
   "outputs": [],
   "source": [
    "import re\n",
    "import requests\n",
    "import sys\n",
    "import os\n",
    "from openai import AzureOpenAI\n",
    "from dotenv import load_dotenv\n",
    "load_dotenv()\n",
    "\n",
    "client = AzureOpenAI(\n",
    "  azure_endpoint = os.getenv(\"AZURE_OPENAI_ENDPOINT\"),\n",
    "  api_key=os.getenv(\"AZURE_OPENAI_API_KEY\"),\n",
    "  api_version=\"2024-02-15-preview\"\n",
    ")"
   ]
  },
  {
   "cell_type": "code",
   "execution_count": null,
   "id": "d391b241-1d7d-4235-9363-af04372aaedd",
   "metadata": {},
   "outputs": [],
   "source": [
    "prompt = \"\"\"Generate tab separated dataset for sentiment analysis with 100 rows and 2 columns.\n",
    "The first column should contain a paragraph with 5 to 8 sentences in english. \n",
    "The second column should contain sentiment of this paragraph on a scale from 1 to 5,\n",
    "with 1 being extremely negative and 5 being extremely positive.\n",
    "Do not append tab at the end of the row.\n",
    "\"\"\"\n",
    "message_text = [{\"role\":\"system\",\"content\":prompt}]\n",
    "\n",
    "response = client.chat.completions.create(\n",
    "  model=os.getenv(\"AZURE_OPENAI_DEPLOYMENT_NAME\"), # model = \"deployment_name\"\n",
    "  messages = message_text,\n",
    ")\n",
    "\n",
    "print (response.choices[0].message.content)"
   ]
  },
  {
   "cell_type": "code",
   "execution_count": null,
   "id": "bce52fda-26a6-4f75-812e-e51f7e87039d",
   "metadata": {},
   "outputs": [],
   "source": []
  }
 ],
 "metadata": {
  "kernelspec": {
   "display_name": "Python 3 (ipykernel)",
   "language": "python",
   "name": "python3"
  },
  "language_info": {
   "codemirror_mode": {
    "name": "ipython",
    "version": 3
   },
   "file_extension": ".py",
   "mimetype": "text/x-python",
   "name": "python",
   "nbconvert_exporter": "python",
   "pygments_lexer": "ipython3",
   "version": "3.10.2"
  }
 },
 "nbformat": 4,
 "nbformat_minor": 5
}
