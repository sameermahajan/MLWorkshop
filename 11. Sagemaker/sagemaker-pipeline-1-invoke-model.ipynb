{
 "cells": [
  {
   "cell_type": "code",
   "execution_count": 1,
   "metadata": {},
   "outputs": [],
   "source": [
    "import boto3\n",
    "import math\n",
    "import dateutil\n",
    "import numpy as np\n",
    "import pandas as pd"
   ]
  },
  {
   "cell_type": "code",
   "execution_count": 2,
   "metadata": {},
   "outputs": [],
   "source": [
    "# get sagemaker client\n",
    "boto_session = boto3.Session(profile_name='ml_user_predict',region_name='us-east-1')\n",
    "client = boto_session.client(service_name='sagemaker-runtime',region_name='us-east-1')"
   ]
  },
  {
   "cell_type": "code",
   "execution_count": 3,
   "metadata": {},
   "outputs": [],
   "source": [
    "# model endpoint created while deploying the model in sagemaker\n",
    "endpoint_name = 'xgb-sample-pipeline-v1'"
   ]
  },
  {
   "cell_type": "code",
   "execution_count": 4,
   "metadata": {},
   "outputs": [
    {
     "name": "stdout",
     "output_type": "stream",
     "text": [
      "0,1,2,3,4,5,6,7,8,9,10,11,12,13,14,15,16,17,18,19,20,21,22,23,24,25,26,27,28,29,30,31,32,33,34,35,36,37,38,39,40,41,42,43,44,45,46,47,48,49,50,51,52,53,54,55,56,57,58\r\n",
      "29,2,999,0,1,0,0,1,0,0,0,0,0,0,0,0,0,0,0,1,0,0,0,0,1,0,0,0,0,0,1,0,0,1,0,0,1,0,0,0,1,0,0,0,0,1,0,0,0,0,0,0,0,0,1,0,0,1,0\r\n",
      "\n"
     ]
    }
   ],
   "source": [
    "# input data\n",
    "sample_1 = [ 29,   2, 999,   0,   1,   0,   0,   1,   0,   0,   0,   0,   0,\n",
    "         0,   0,   0,   0,   0,   0,   1,   0,   0,   0,   0,   1,   0,\n",
    "         0,   0,   0,   0,   1,   0,   0,   1,   0,   0,   1,   0,   0,\n",
    "         0,   1,   0,   0,   0,   0,   1,   0,   0,   0,   0,   0,   0,\n",
    "         0,   0,   1,   0,   0,   1,   0]\n",
    "\n",
    "# converting input_data to csv format(which is acceptable by the model)\n",
    "df = pd.DataFrame(data=sample_1)\n",
    "df = df.T\n",
    "model_input = df.to_csv(index=False)\n",
    "print(model_input)"
   ]
  },
  {
   "cell_type": "code",
   "execution_count": 5,
   "metadata": {},
   "outputs": [
    {
     "data": {
      "text/plain": [
       "{'ResponseMetadata': {'RequestId': '3e04eaeb-aff7-4b2e-973f-b156c0568893',\n",
       "  'HTTPStatusCode': 200,\n",
       "  'HTTPHeaders': {'x-amzn-requestid': '3e04eaeb-aff7-4b2e-973f-b156c0568893',\n",
       "   'x-amzn-invoked-production-variant': 'AllTraffic',\n",
       "   'date': 'Fri, 4 Sep 2020 17:52:34 GMT',\n",
       "   'content-type': 'text/csv; charset=utf-8',\n",
       "   'content-length': '30'},\n",
       "  'RetryAttempts': 0},\n",
       " 'ContentType': 'text/csv; charset=utf-8',\n",
       " 'InvokedProductionVariant': 'AllTraffic',\n",
       " 'Body': <botocore.response.StreamingBody at 0x1eb7d9eeec8>}"
      ]
     },
     "execution_count": 5,
     "metadata": {},
     "output_type": "execute_result"
    }
   ],
   "source": [
    "# Let's invoke prediction now\n",
    "result = client.invoke_endpoint(EndpointName=endpoint_name, \n",
    "                       Body=model_input,\n",
    "                       ContentType='text/csv')\n",
    "\n",
    "result"
   ]
  },
  {
   "cell_type": "code",
   "execution_count": 6,
   "metadata": {},
   "outputs": [],
   "source": [
    "pred = result.copy()\n",
    "pred = pred['Body'].read().decode('utf-8')"
   ]
  },
  {
   "cell_type": "code",
   "execution_count": 7,
   "metadata": {},
   "outputs": [
    {
     "data": {
      "text/plain": [
       "array([0.8603695 , 0.06022352])"
      ]
     },
     "execution_count": 7,
     "metadata": {},
     "output_type": "execute_result"
    }
   ],
   "source": [
    "# predicted values\n",
    "arr = pred.split(\",\")\n",
    "arr = np.array(arr)\n",
    "arr = arr.astype(\"float\")\n",
    "arr"
   ]
  },
  {
   "cell_type": "code",
   "execution_count": null,
   "metadata": {},
   "outputs": [],
   "source": []
  }
 ],
 "metadata": {
  "kernelspec": {
   "display_name": "Python 3",
   "language": "python",
   "name": "python3"
  },
  "language_info": {
   "codemirror_mode": {
    "name": "ipython",
    "version": 3
   },
   "file_extension": ".py",
   "mimetype": "text/x-python",
   "name": "python",
   "nbconvert_exporter": "python",
   "pygments_lexer": "ipython3",
   "version": "3.7.6"
  },
  "toc": {
   "base_numbering": 1,
   "nav_menu": {},
   "number_sections": true,
   "sideBar": true,
   "skip_h1_title": false,
   "title_cell": "Table of Contents",
   "title_sidebar": "Contents",
   "toc_cell": false,
   "toc_position": {},
   "toc_section_display": true,
   "toc_window_display": false
  }
 },
 "nbformat": 4,
 "nbformat_minor": 4
}
